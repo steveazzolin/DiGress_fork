{
 "cells": [
  {
   "cell_type": "code",
   "execution_count": 2,
   "id": "99e021da",
   "metadata": {},
   "outputs": [
    {
     "name": "stdout",
     "output_type": "stream",
     "text": [
      "The autoreload extension is already loaded. To reload it, use:\n",
      "  %reload_ext autoreload\n"
     ]
    }
   ],
   "source": [
    "import networkx as nx\n",
    "import numpy as np\n",
    "\n",
    "%load_ext autoreload\n",
    "%autoreload 2"
   ]
  },
  {
   "cell_type": "markdown",
   "id": "2b46a350",
   "metadata": {},
   "source": [
    "# generate sample graphs\n",
    "here you should load the test graphs end the generated ones"
   ]
  },
  {
   "cell_type": "code",
   "execution_count": 3,
   "id": "63d9650b",
   "metadata": {},
   "outputs": [],
   "source": [
    "generated_graph = []\n",
    "test_graphs = []\n",
    "MAX_nb_nodes = 20\n",
    "min_nb_nodes = 15\n",
    "\n",
    "for i in range(20):\n",
    "    n = np.random.choice(np.arange(min_nb_nodes,MAX_nb_nodes))\n",
    "    generated_graph.append(nx.fast_gnp_random_graph(n,p=0.5))\n",
    "    n = np.random.choice(np.arange(min_nb_nodes,MAX_nb_nodes))\n",
    "    test_graphs.append(nx.fast_gnp_random_graph(n,p=0.5))\n",
    "    #test_graphs.append(nx.barabasi_albert_graph(n,1))"
   ]
  },
  {
   "cell_type": "markdown",
   "id": "0a9d1a8f",
   "metadata": {},
   "source": [
    "# import mmd and compute_metrics"
   ]
  },
  {
   "cell_type": "code",
   "execution_count": 5,
   "id": "f88208ea",
   "metadata": {},
   "outputs": [],
   "source": [
    "# code from GraphRNN\n",
    "from mmd import compute_mmd,gaussian_emd,gaussian\n",
    "from compute_metrics import get_orbit,get_clustering,get_degs"
   ]
  },
  {
   "cell_type": "code",
   "execution_count": 6,
   "id": "cd368dbd",
   "metadata": {},
   "outputs": [
    {
     "data": {
      "text/plain": [
       "0.033053658084294835"
      ]
     },
     "execution_count": 6,
     "metadata": {},
     "output_type": "execute_result"
    }
   ],
   "source": [
    "s1 = get_orbit(test_graphs)\n",
    "s2 = get_orbit(generated_graph)\n",
    "compute_mmd(s1, s2, kernel=gaussian_emd, is_parallel=False, sigma=1.0)"
   ]
  },
  {
   "cell_type": "code",
   "execution_count": null,
   "id": "c1834880",
   "metadata": {},
   "outputs": [],
   "source": []
  },
  {
   "cell_type": "code",
   "execution_count": 11,
   "id": "aa6bdf74",
   "metadata": {},
   "outputs": [
    {
     "data": {
      "text/plain": [
       "0.007192053920882513"
      ]
     },
     "execution_count": 11,
     "metadata": {},
     "output_type": "execute_result"
    }
   ],
   "source": [
    "s1 = get_clustering(test_graphs)\n",
    "s2 = get_clustering(generated_graph)\n",
    "compute_mmd(s1, s2, kernel=gaussian, is_parallel=False, sigma=1.0)"
   ]
  },
  {
   "cell_type": "code",
   "execution_count": 10,
   "id": "f5d78406",
   "metadata": {},
   "outputs": [
    {
     "data": {
      "text/plain": [
       "0.022178943227736392"
      ]
     },
     "execution_count": 10,
     "metadata": {},
     "output_type": "execute_result"
    }
   ],
   "source": [
    "s1 = get_degs(test_graphs)\n",
    "s2 = get_degs(generated_graph)\n",
    "compute_mmd(s1, s2, kernel=gaussian_emd, is_parallel=False, sigma=1.0)"
   ]
  },
  {
   "cell_type": "code",
   "execution_count": null,
   "id": "90c3d79a",
   "metadata": {},
   "outputs": [],
   "source": []
  },
  {
   "cell_type": "markdown",
   "id": "c8c598bb",
   "metadata": {},
   "source": [
    "# does the graph has triangles?"
   ]
  },
  {
   "cell_type": "code",
   "execution_count": null,
   "id": "73ee7397",
   "metadata": {},
   "outputs": [],
   "source": [
    "generated_graph = []\n",
    "MAX_nb_nodes = 20\n",
    "min_nb_nodes = 15\n",
    "\n",
    "for i in range(20):\n",
    "    n = np.random.choice(np.arange(min_nb_nodes,MAX_nb_nodes))\n",
    "    generated_graph.append(nx.barabasi_albert_graph(n,1))\n",
    "    generated_graph.append(nx.fast_gnp_random_graph(n,0.04))"
   ]
  },
  {
   "cell_type": "code",
   "execution_count": null,
   "id": "ee7717fb",
   "metadata": {},
   "outputs": [],
   "source": [
    "def has_tringles(graph):\n",
    "    count = sum(nx.cluster.triangles(graph).values())\n",
    "    \n",
    "    if count == 0:\n",
    "        return False\n",
    "    else:\n",
    "        return True\n",
    "    \n",
    "def chack_validity_triangles(graphs):\n",
    "    N = len(graphs)\n",
    "    c = 0\n",
    "    for graph in graphs:\n",
    "        if has_tringles(graph):\n",
    "            c = c + 1\n",
    "            \n",
    "    print(N,c)\n",
    "    print(N-c, \"valid graphs over\",N,\"graphs\")\n",
    "    \n",
    "    return (N,c)"
   ]
  },
  {
   "cell_type": "code",
   "execution_count": null,
   "id": "9ade3599",
   "metadata": {},
   "outputs": [],
   "source": [
    "chack_validity_triangles(generated_graph)"
   ]
  },
  {
   "cell_type": "code",
   "execution_count": null,
   "id": "69a98d03",
   "metadata": {},
   "outputs": [],
   "source": []
  }
 ],
 "metadata": {
  "kernelspec": {
   "display_name": "Python 3 (ipykernel)",
   "language": "python",
   "name": "python3"
  },
  "language_info": {
   "codemirror_mode": {
    "name": "ipython",
    "version": 3
   },
   "file_extension": ".py",
   "mimetype": "text/x-python",
   "name": "python",
   "nbconvert_exporter": "python",
   "pygments_lexer": "ipython3",
   "version": "3.10.11"
  }
 },
 "nbformat": 4,
 "nbformat_minor": 5
}
